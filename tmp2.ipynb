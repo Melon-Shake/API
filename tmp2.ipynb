{
 "cells": [
  {
   "cell_type": "markdown",
   "metadata": {},
   "source": [
    "# 지니어스 서치\n"
   ]
  },
  {
   "cell_type": "code",
   "execution_count": 9,
   "metadata": {},
   "outputs": [],
   "source": [
    "import requests\n",
    "import pandas as pd\n",
    "\n",
    "def genius_search(search,GENIUS_API_KEY):\n",
    "    # Genius API Key\n",
    "    GENIUS_API_KEY = GENIUS_API_KEY\n",
    "\n",
    "    # API 요청을 위한 엔드포인트\n",
    "    base_url = \"https://api.genius.com\"\n",
    "    headers = {\"Authorization\": \"Bearer \" + GENIUS_API_KEY}\n",
    "\n",
    "    # 검색할 노래 제목\n",
    "    search = search\n",
    "    search_url = f\"{base_url}/search?q={search}\"\n",
    "\n",
    "    # API 요청 보내기\n",
    "    response = requests.get(search_url, headers=headers)\n",
    "    data = response.json()\n",
    "    # print(pd.DataFrame(data))\n",
    "    # 응답 데이터 파싱 및 활용\n",
    "    if \"response\" in data and \"hits\" in data[\"response\"]:\n",
    "        hits = data[\"response\"][\"hits\"]\n",
    "        if hits:\n",
    "            col = [\"ID\",\"Title\",\"artist_names\",\"pyongs_count\"]\n",
    "            a=[]\n",
    "            for i in data['response']['hits']:\n",
    "                a.append([i['result']['id'],i['result']['title'],i['result']['artist_names'],i['result']['pyongs_count']])\n",
    "            return pd.DataFrame(a,columns=col)\n",
    "    else:\n",
    "        print(\"검색 결과를 찾을 수 없습니다.\")"
   ]
  },
  {
   "cell_type": "code",
   "execution_count": 9,
   "metadata": {},
   "outputs": [
    {
     "data": {
      "text/plain": [
       "3115930"
      ]
     },
     "execution_count": 9,
     "metadata": {},
     "output_type": "execute_result"
    }
   ],
   "source": [
    "genius_search(\"무제, 지드래곤\").loc[0][0]"
   ]
  },
  {
   "cell_type": "code",
   "execution_count": 4,
   "metadata": {},
   "outputs": [
    {
     "ename": "NameError",
     "evalue": "name 'genius_search' is not defined",
     "output_type": "error",
     "traceback": [
      "\u001b[1;31m---------------------------------------------------------------------------\u001b[0m",
      "\u001b[1;31mNameError\u001b[0m                                 Traceback (most recent call last)",
      "Cell \u001b[1;32mIn[4], line 1\u001b[0m\n\u001b[1;32m----> 1\u001b[0m genius_search(\u001b[39m\"\u001b[39m\u001b[39mHey Jude,The Beatles\u001b[39m\u001b[39m\"\u001b[39m)\n",
      "\u001b[1;31mNameError\u001b[0m: name 'genius_search' is not defined"
     ]
    }
   ],
   "source": [
    "genius_search(\"Hey Jude,The Beatles\")"
   ]
  },
  {
   "cell_type": "markdown",
   "metadata": {},
   "source": [
    "# ID로 가사 주소"
   ]
  },
  {
   "cell_type": "code",
   "execution_count": 13,
   "metadata": {},
   "outputs": [],
   "source": [
    "\n",
    "import requests\n",
    "import pandas as pd\n",
    "def get_lyric(ID):\n",
    "    # Genius API Key\n",
    "    GENIUS_API_KEY = \"U8Bj95uLfXFHnAkwYV67p1a5tdzmJD7vQSKWMGxi_w_BekWl_gMSLb7sRwl-rI5gqwop8gawaDjzF1mqyYl-6A\"\n",
    "\n",
    "    # 노래 제목\n",
    "    ID = ID\n",
    "\n",
    "    # 검색 요청 보내기\n",
    "    search_url = f\"https://api.genius.com/songs/{ID}\"\n",
    "    headers = {\"Authorization\": f\"Bearer {GENIUS_API_KEY}\"}\n",
    "    response = requests.get(search_url, headers=headers)\n",
    "    data = response.json()\n",
    "    return data\n",
    "    # data['response']['song']['album']['full_title']"
   ]
  },
  {
   "cell_type": "markdown",
   "metadata": {},
   "source": [
    "## Genius unique search"
   ]
  },
  {
   "cell_type": "code",
   "execution_count": 19,
   "metadata": {},
   "outputs": [],
   "source": [
    "import requests\n",
    "import pandas as pd\n",
    "\n",
    "def genius_unique_search(search):\n",
    "    ID = genius_search(search).loc[0][0]\n",
    "    ARTIST = genius_search(search).loc[0][2]\n",
    "    TITEL = genius_search(search).loc[0][1]\n",
    "    LYIRC_URL = get_lyric(ID)['response']['song']['url']\n",
    "    if get_lyric(ID)['response']['song']['album'] != None:\n",
    "        ALBUM = get_lyric(ID)['response']['song']['album']['name']\n",
    "    print(\"ID = \",ID)\n",
    "    print(\"ARTIST =\",ARTIST)\n",
    "    print(\"TITEL =\",TITEL)\n",
    "    print(\"LYIRC_URL =\",LYIRC_URL)\n",
    "    print(\"ALBUM =\",ALBUM)"
   ]
  },
  {
   "cell_type": "code",
   "execution_count": 20,
   "metadata": {},
   "outputs": [
    {
     "name": "stdout",
     "output_type": "stream",
     "text": [
      "ID =  9048716\n",
      "ARTIST = (G)I-DLE\n",
      "TITEL = All Night\n",
      "LYIRC_URL = https://genius.com/Gi-dle-all-night-lyrics\n",
      "ALBUM = I feel\n"
     ]
    }
   ],
   "source": [
    "genius_unique_search(\"아이들, all night\")"
   ]
  },
  {
   "cell_type": "code",
   "execution_count": 34,
   "metadata": {},
   "outputs": [],
   "source": [
    "a = data['response']['song'].keys()"
   ]
  },
  {
   "cell_type": "code",
   "execution_count": 38,
   "metadata": {},
   "outputs": [
    {
     "name": "stdout",
     "output_type": "stream",
     "text": [
      "annotation_count : 1\n",
      "api_path : /songs/1852197\n",
      "apple_music_id : 1497924248\n",
      "apple_music_player_url : https://genius.com/songs/1852197/apple_music_player\n",
      "artist_names : The Beatles Revival Band\n",
      "description : {'dom': {'tag': 'root', 'children': [{'tag': 'p', 'children': ['?']}]}}\n",
      "embed_content : <div id='rg_embed_link_1852197' class='rg_embed_link' data-song-id='1852197'>Read <a href='https://genius.com/The-beatles-revival-band-hey-jude-lyrics'>“Hey Jude” by The Beatles Revival Band</a> on Genius</div> <script crossorigin src='//genius.com/songs/1852197/embed.js'></script>\n",
      "featured_video : False\n",
      "full_title : Hey Jude by The Beatles Revival Band\n",
      "header_image_thumbnail_url : https://assets.genius.com/images/default_cover_image.png?1692806553\n",
      "header_image_url : https://assets.genius.com/images/default_cover_image.png?1692806553\n",
      "id : 1852197\n",
      "language : en\n",
      "lyrics_owner_id : 1549345\n",
      "lyrics_placeholder_reason : None\n",
      "lyrics_state : complete\n",
      "path : /The-beatles-revival-band-hey-jude-lyrics\n",
      "pyongs_count : None\n",
      "recording_location : None\n",
      "relationships_index_url : https://genius.com/The-beatles-revival-band-hey-jude-sample\n",
      "release_date : None\n",
      "release_date_for_display : None\n",
      "release_date_with_abbreviated_month_for_display : None\n",
      "song_art_image_thumbnail_url : https://assets.genius.com/images/default_cover_image.png?1692806553\n",
      "song_art_image_url : https://assets.genius.com/images/default_cover_image.png?1692806553\n",
      "stats : {'accepted_annotations': 0, 'contributors': 1, 'iq_earners': 0, 'transcribers': 1, 'unreviewed_annotations': 0, 'verified_annotations': 0, 'hot': False}\n",
      "title : Hey Jude\n",
      "title_with_featured : Hey Jude\n",
      "url : https://genius.com/The-beatles-revival-band-hey-jude-lyrics\n",
      "current_user_metadata : {'permissions': ['view_apple_music_player', 'view_recommendations', 'view_song_story_gallery'], 'excluded_permissions': ['follow', 'award_transcription_iq', 'remove_transcription_iq', 'see_pageviews', 'pyong', 'edit_lyrics', 'view_annotation_engagement_data', 'publish', 'unpublish', 'edit_spotify_details', 'hide', 'unhide', 'toggle_featured_video', 'add_pinned_annotation_to', 'add_community_annotation_to', 'destroy', 'mark_as_not_spam', 'edit_spotify_annotations_for', 'verify_lyrics', 'unverify_lyrics', 'edit_anything', 'edit_any_media', 'edit', 'rename', 'edit_tags', 'reindex', 'view_lyrics_synchronization', 'enable_media', 'disable_media', 'edit_lyrics_or_annotation_brackets', 'see_editorial_indicators', 'view_attribution_visualization', 'edit_annotation_brackets', 'preview_lyrics_for_export', 'hide_apple_player', 'unhide_apple_player', 'trigger_apple_match', 'mark_lyrics_evaluation_as_complete', 'mark_lyrics_evaluation_as_staff_approved', 'unmark_lyrics_evaluation_as_complete', 'mark_lyrics_evaluation_as_un_staff_approved', 'view_transcriber_media_player', 'override_apple_match', 'set_song_color_gradient', 'mark_as_hot', 'unmark_as_hot', 'view_relationships_page', 'view_mark_complete_button', 'edit_youtube_url', 'edit_soundcloud_url', 'edit_spotify_uuid', 'edit_vevo_url', 'create_comment', 'moderate_annotations', 'create_annotation', 'see_short_id', 'manage_chart_item', 'create_tag', 'propose_lyrics_edit', 'view_lyrics_edit_proposals_on_song', 'create_question'], 'interactions': {'pyong': False, 'following': False}, 'relationships': {}, 'iq_by_action': {}}\n",
      "album : None\n",
      "custom_performances : []\n",
      "description_annotation : {'_type': 'referent', 'annotator_id': 1549345, 'annotator_login': 'pressburg', 'api_path': '/referents/6466500', 'classification': 'needs_exegesis', 'fragment': 'Hey Jude', 'id': 6466500, 'is_description': True, 'path': '/6466500/The-beatles-revival-band-hey-jude/Hey-jude', 'range': {'content': 'Hey Jude'}, 'song_id': 1852197, 'url': 'https://genius.com/6466500/The-beatles-revival-band-hey-jude/Hey-jude', 'verified_annotator_ids': [], 'annotatable': {'api_path': '/songs/1852197', 'client_timestamps': {'updated_by_human_at': 1445957417, 'lyrics_updated_at': 1431634302}, 'context': 'The Beatles Revival Band', 'id': 1852197, 'image_url': 'https://assets.genius.com/images/default_cover_image.png?1692806553', 'link_title': 'Hey Jude by\\xa0The\\xa0Beatles Revival Band', 'title': 'Hey Jude', 'type': 'Song', 'url': 'https://genius.com/The-beatles-revival-band-hey-jude-lyrics'}, 'annotations': [{'api_path': '/annotations/6466500', 'body': {'dom': {'tag': 'root'}}, 'comment_count': 0, 'community': True, 'custom_preview': None, 'has_voters': False, 'id': 6466500, 'pinned': False, 'share_url': 'https://genius.com/6466500', 'source': None, 'state': 'needs_exegesis', 'url': 'https://genius.com/6466500/The-beatles-revival-band-hey-jude/Hey-jude', 'verified': False, 'votes_total': 0, 'current_user_metadata': {'permissions': [], 'excluded_permissions': ['vote', 'edit', 'cosign', 'uncosign', 'destroy', 'accept', 'reject', 'see_unreviewed', 'clear_votes', 'propose_edit_to', 'pin_to_profile', 'unpin_from_profile', 'update_source', 'edit_custom_preview', 'create_comment'], 'interactions': {'cosign': False, 'pyong': False, 'vote': None}, 'iq_by_action': {}}, 'authors': [{'attribution': 1.0, 'pinned_role': None, 'user': {'api_path': '/users/1549345', 'avatar': {'tiny': {'url': 'https://images.rapgenius.com/avatars/tiny/04d14b7ca5774ab1736acddc83edd261', 'bounding_box': {'width': 16, 'height': 16}}, 'thumb': {'url': 'https://images.rapgenius.com/avatars/thumb/04d14b7ca5774ab1736acddc83edd261', 'bounding_box': {'width': 32, 'height': 32}}, 'small': {'url': 'https://images.rapgenius.com/avatars/small/04d14b7ca5774ab1736acddc83edd261', 'bounding_box': {'width': 100, 'height': 100}}, 'medium': {'url': 'https://images.rapgenius.com/avatars/medium/04d14b7ca5774ab1736acddc83edd261', 'bounding_box': {'width': 300, 'height': 400}}}, 'header_image_url': 'https://images.rapgenius.com/avatars/medium/04d14b7ca5774ab1736acddc83edd261', 'human_readable_role_for_display': None, 'id': 1549345, 'iq': 0, 'login': 'pressburg', 'name': 'pressburg', 'role_for_display': None, 'url': 'https://genius.com/pressburg', 'current_user_metadata': {'permissions': [], 'excluded_permissions': ['follow'], 'interactions': {'following': False}}}}], 'cosigned_by': [], 'rejection_comment': None, 'verified_by': None}]}\n",
      "featured_artists : []\n",
      "lyrics_marked_complete_by : None\n",
      "lyrics_marked_staff_approved_by : None\n",
      "media : []\n",
      "primary_artist : {'api_path': '/artists/377486', 'header_image_url': 'https://assets.genius.com/images/default_avatar_300.png?1692806553', 'id': 377486, 'image_url': 'https://assets.genius.com/images/default_avatar_300.png?1692806553', 'is_meme_verified': False, 'is_verified': False, 'name': 'The Beatles Revival Band', 'url': 'https://genius.com/artists/The-beatles-revival-band'}\n",
      "producer_artists : []\n",
      "song_relationships : [{'relationship_type': 'samples', 'type': 'samples', 'songs': []}, {'relationship_type': 'sampled_in', 'type': 'sampled_in', 'songs': []}, {'relationship_type': 'interpolates', 'type': 'interpolates', 'songs': []}, {'relationship_type': 'interpolated_by', 'type': 'interpolated_by', 'songs': []}, {'relationship_type': 'cover_of', 'type': 'cover_of', 'songs': []}, {'relationship_type': 'covered_by', 'type': 'covered_by', 'songs': []}, {'relationship_type': 'remix_of', 'type': 'remix_of', 'songs': []}, {'relationship_type': 'remixed_by', 'type': 'remixed_by', 'songs': []}, {'relationship_type': 'live_version_of', 'type': 'live_version_of', 'songs': []}, {'relationship_type': 'performed_live_as', 'type': 'performed_live_as', 'songs': []}, {'relationship_type': 'translation_of', 'type': 'translation_of', 'songs': []}, {'relationship_type': 'translations', 'type': 'translations', 'songs': []}]\n",
      "translation_songs : []\n",
      "verified_annotations_by : []\n",
      "verified_contributors : []\n",
      "verified_lyrics_by : []\n",
      "writer_artists : []\n"
     ]
    }
   ],
   "source": [
    "for i in a:\n",
    "    print(i,':',data['response']['song'][i])"
   ]
  },
  {
   "cell_type": "markdown",
   "metadata": {},
   "source": [
    "## 가사 크롤링"
   ]
  },
  {
   "cell_type": "code",
   "execution_count": 9,
   "metadata": {},
   "outputs": [
    {
     "name": "stdout",
     "output_type": "stream",
     "text": [
      "가사:\n",
      " [Verse 1]\n",
      "나에게 돌아오기가\n",
      "어렵고 힘든 걸 알아\n",
      "이제 더는 상처받기가\n",
      "두렵고 싫은 걸 알아\n",
      "네가 떠나 버린 그날에도\n",
      "모진 말로 널 울리고\n",
      "뒤돌아 서서 후회해 미안해\n",
      "[Chorus]\n",
      "제발 단 한 번이라도\n",
      "너를 볼 수 있다면\n",
      "내 모든 걸 다 잃어도 괜찮아\n",
      "꿈에서라도 너를 만나\n",
      "다시 사랑하기를\n",
      "우리 이대로\n",
      "[Verse 2]\n",
      "너에게 용서받기 보다\n",
      "죽는 게 더 쉬울지 몰라\n",
      "이 노래를 불러보지만\n",
      "내 진심이 닿을지 몰라\n",
      "네가 행복하기를 바래\n",
      "그 흔한 거짓말도 못하고\n",
      "돌아오기만 기도해 미안해\n"
     ]
    }
   ],
   "source": [
    "import requests\n",
    "from bs4 import BeautifulSoup\n",
    "\n",
    "def genius_lyric_search(url):\n",
    "    url = url\n",
    "\n",
    "    response = requests.get(url)\n",
    "\n",
    "    if response.status_code == 200:\n",
    "        page_content = response.content\n",
    "        soup = BeautifulSoup(page_content, 'html.parser')\n",
    "\n",
    "        lyrics_containers = soup.find_all('div', class_='Lyrics__Container-sc-1ynbvzw-5')\n",
    "\n",
    "        lyrics_list = []\n",
    "\n",
    "        for container in lyrics_containers:\n",
    "            lyrics_list.extend(container.stripped_strings)\n",
    "\n",
    "        lyrics = '\\n'.join(lyrics_list)\n",
    "        return lyrics\n",
    "    else:\n",
    "        return '페이지를 가져올 수 없습니다.'\n"
   ]
  },
  {
   "cell_type": "code",
   "execution_count": 1,
   "metadata": {},
   "outputs": [],
   "source": [
    "import requests\n",
    "import pandas as pd\n",
    "from bs4 import BeautifulSoup\n",
    "GENIUS_API_KEY = \"6_Qvih8nVAJPwcO9_mRstBxlukq7uAVwXbJDTPmzMYG_ojCWZmbSdaLph4mpgycU\"\n",
    "\n",
    "import re\n",
    "\n",
    "def normalize(url):\n",
    "    if \"Genius-romanizations-\" in url:\n",
    "        new_url = url.replace(\"Genius-romanizations-\",\"\")\n",
    "        new_url = new_url.replace(\"romanized-\",\"\")\n",
    "        return new_url\n",
    "    else:\n",
    "        return url\n",
    "        \n",
    "def genius_search(search,GENIUS_API_KEY):     # 노래 id 및 기본 정보 수집\n",
    "    \n",
    "    GENIUS_API_KEY = GENIUS_API_KEY\n",
    "\n",
    "\n",
    "    base_url = \"https://api.genius.com\"\n",
    "    headers = {\"Authorization\": \"Bearer \" + GENIUS_API_KEY}\n",
    "\n",
    "\n",
    "    search = search\n",
    "    search_url = f\"{base_url}/search?q={search}\"\n",
    "\n",
    "\n",
    "    response = requests.get(search_url, headers=headers)\n",
    "    data = response.json()\n",
    "\n",
    "\n",
    "    if \"response\" in data and \"hits\" in data[\"response\"]:\n",
    "        hits = data[\"response\"][\"hits\"]\n",
    "        if hits:\n",
    "            col = [\"ID\",\"Title\",\"artist_names\",\"pyongs_count\"]\n",
    "            a=[]\n",
    "            for i in data['response']['hits']:\n",
    "                a.append([i['result']['id'],i['result']['title'],i['result']['artist_names'],i['result']['pyongs_count']])\n",
    "            return pd.DataFrame(a,columns=col)\n",
    "    else:\n",
    "        return \"검색 결과를 찾을 수 없습니다.\"\n",
    "    \n",
    "    \n",
    "def get_lyric(ID,GENIUS_API_KEY):   # 가사 주소 및 앨범 정보 수집\n",
    "    # Genius API Key\n",
    "    GENIUS_API_KEY = GENIUS_API_KEY\n",
    "\n",
    "    # 노래 제목\n",
    "    ID = ID\n",
    "\n",
    "    # 검색 요청 보내기\n",
    "    search_url = f\"https://api.genius.com/songs/{ID}\"\n",
    "    headers = {\"Authorization\": f\"Bearer {GENIUS_API_KEY}\"}\n",
    "    response = requests.get(search_url, headers=headers)\n",
    "    data = response.json()\n",
    "    return data\n",
    "    # data['response']['song']['album']['full_title']\n",
    "    \n",
    "\n",
    "def genius_lyric_search(url):   # 가사 크롤링\n",
    "    url = url\n",
    "\n",
    "    response = requests.get(url)\n",
    "\n",
    "    if response.status_code == 200:\n",
    "        page_content = response.content\n",
    "        soup = BeautifulSoup(page_content, 'html.parser')\n",
    "\n",
    "        lyrics_containers = soup.find_all('div', class_='Lyrics__Container-sc-1ynbvzw-5')\n",
    "\n",
    "        lyrics_list = []\n",
    "\n",
    "        for container in lyrics_containers:\n",
    "            lyrics_list.extend(container.stripped_strings)\n",
    "\n",
    "        lyrics = '\\n'.join(lyrics_list)\n",
    "        return lyrics\n",
    "    else:\n",
    "        return '페이지를 가져올 수 없습니다.'\n",
    "    \n",
    "def genius_unique_search(search, GENIUS_API_KEY):   # 종합\n",
    "    GENIUS_API_KEY = GENIUS_API_KEY\n",
    "    \n",
    "    # 노래 id 및 기본 정보\n",
    "    genius_search_data = genius_search(search, GENIUS_API_KEY)\n",
    "    ID = genius_search_data.loc[0][0]\n",
    "    ARTIST = genius_search_data.loc[0][2]\n",
    "    TITEL = genius_search_data.loc[0][1]\n",
    "    \n",
    "    # 가사 주소 및 앨범\n",
    "    get_lyric_data = get_lyric(ID, GENIUS_API_KEY)['response']['song']\n",
    "    LYIRC_URL = get_lyric_data['url']\n",
    "    LYIRC_URL = normalize(LYIRC_URL)\n",
    "    if get_lyric_data['album'] != None:\n",
    "        ALBUM = get_lyric_data['album']['name']\n",
    "    \n",
    "        #크롤링\n",
    "        LYRIC = genius_lyric_search(LYIRC_URL)\n",
    "        return (ID,ARTIST, TITEL, LYIRC_URL, ALBUM, LYRIC)\n",
    "    else:\n",
    "        LYRIC = genius_lyric_search(LYIRC_URL)\n",
    "        return (ID,ARTIST, TITEL, LYIRC_URL, LYRIC)"
   ]
  },
  {
   "cell_type": "code",
   "execution_count": 3,
   "metadata": {},
   "outputs": [],
   "source": [
    "data =genius_unique_search(\"소녀시대, HAERT\",GENIUS_API_KEY)"
   ]
  },
  {
   "cell_type": "code",
   "execution_count": 4,
   "metadata": {},
   "outputs": [
    {
     "data": {
      "text/plain": [
       "'[소녀시대 \"Lion Heart\" 가사]\\n[Verse 1: Taeyeon,\\nSooyoung\\n]\\nOoh, 너와 너 처음 만났을때\\nOoh, 마치 사자처럼 맴돌아\\n기회를 노려내 맘빼신 너\\n아, 넌 달라진 게 없어, 여전히\\n난 애가 타고 또 타\\n사냥감 찾아 한눈 파는 너\\n[Pre-Chorus: Yoona]\\n수백번 밀어내야 해는데 (Ooh)\\n수천번 널 떠나야 해는대\\n[Chorus: All,\\nTiffany\\n,\\nSeohyun\\n]\\nTell me why\\n왜 맘이 맘이 자꾸 흔들리니\\n난 여기 여기 네 옆에 있잖니\\n정신 차려 lion heart\\n난 애가 타\\n내 맘이 맘이 더는 식지 않게\\n난 여기저기 뛰노는 너의 맘\\n길들일래 lion heart\\n[Post-Chorus: All]\\nOh-oh-oh, oh-oh-oh-oh-oh\\nOh-oh-oh, oh-oh-oh-oh-oh\\n[Verse 2: Sunny]\\nOoh, 넌 자유로운 영혼 여전해\\n충실해 본능 앞에\\n지금 네 옆에 난 안 보이니\\n[Pre-Chorus: Hyoyeon]\\n수백 번 고민 고민해봐도\\n수천 번 결국 답은 너인데\\n[Chorus: All,\\nYuri\\n,\\nTaeyeon\\n]\\nTell me why\\n왜 맘이 맘이 자꾸 흔들리니\\n난 여기 여기 네 옆에 있잖니\\n정신 차려 lion heart\\n난 애가 타\\n내 맘이 맘이 더는 식지 않게\\n난 여기저기 뛰노는 너의 맘\\n길들일래 lion heart\\n[Bridge: All,\\nSooyoung & Yoona\\n,\\nHyoyeon & Yuri\\n]\\nOh-oh-oh, oh-oh-oh-oh-oh (큰일 났어)\\nOh-oh-oh, oh-oh-oh-oh-oh (큰일 났어)\\n곤히 잠자는 나의 코끝을, baby\\nOh-oh-oh, oh-oh-oh-oh-oh (큰일 났어)\\nOh-oh-oh, oh-oh-oh-oh-oh (혼 좀 나 볼래)\\n네가 건드려 나도 화가 나, baby\\n[Chorus: All,\\nTiffany\\n,\\nSeohyun\\n,\\nTaeyeon\\n, *\\nSunny\\n*, **\\nTaeyeon & Sunny\\n**]\\nTell me why (\\nBaby, why\\n)\\n왜 맘이 맘이 자꾸 흔들리니\\n(\\n자꾸 흔들리니, 리니\\n)\\n난 여기 여기 네 옆에 있잖니\\n(\\nWhoa\\n)\\n정신 차려 lion heart\\n(\\nOh, 정신 차려 lion heart, yeah, yeah\\n)\\n난 애가 타\\n*\\n내 맘이 맘이 더는 식지 않게\\n* (\\n내 맘이 맘이 더는 식지 않게, 않게\\n)\\n*\\n난 여기저기 뛰노는 너의 맘\\n*\\n*\\n길들일래 lion heart\\n* (**\\nOh, 널 길들일래 lion heart\\n**)\\n*\\n길들일래 lion heart\\n*\\n[Interlude: Tiffany, Hyoyeon, Seohyun, Sooyoung, Yoona, Yuri,\\nAll\\n]\\nLadies, y’all know what I’m talking about right? (\\nYeah!\\n)\\n모두 다 아니라 해도 좋을 때 있지 않아\\n사실 나만 좋음 됐지 뭐\\n바람보다 빠른 눈치로 (\\n맘은 뜨겁게\\n)\\n햇살처럼 따뜻한 말로 (\\n머린 차갑게\\n)\\n길들일래 너의 lion heart\\n사자 같은 너의 lion heart\\n[Outro: All,\\nSooyoung\\n,\\nYuri\\n,\\nTiffany\\n]\\n(오늘부터)\\n여기 와서 앉아\\n(오늘부터)\\n내 곁에만 있어\\n(오늘부터)\\n한 눈 팔지 말아\\nLion heart'"
      ]
     },
     "execution_count": 4,
     "metadata": {},
     "output_type": "execute_result"
    }
   ],
   "source": [
    "data[-1]"
   ]
  }
 ],
 "metadata": {
  "kernelspec": {
   "display_name": "Python 3",
   "language": "python",
   "name": "python3"
  },
  "language_info": {
   "codemirror_mode": {
    "name": "ipython",
    "version": 3
   },
   "file_extension": ".py",
   "mimetype": "text/x-python",
   "name": "python",
   "nbconvert_exporter": "python",
   "pygments_lexer": "ipython3",
   "version": "3.8.7rc1"
  },
  "orig_nbformat": 4
 },
 "nbformat": 4,
 "nbformat_minor": 2
}
