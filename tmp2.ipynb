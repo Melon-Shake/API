{
 "cells": [
  {
   "cell_type": "markdown",
   "metadata": {},
   "source": [
    "# 지니어스 서치\n"
   ]
  },
  {
   "cell_type": "code",
   "execution_count": null,
   "metadata": {},
   "outputs": [],
   "source": [
    "import requests\n",
    "import pandas as pd\n",
    "\n",
    "def genius_search(search)\n",
    "    # Genius API Key\n",
    "    GENIUS_API_KEY = \"RxHhmeacGh6U3gHYSlYMqspFLIx1MqNIDe9-abYiT7Skq22Lc1j6Zuwm2mZvqBPr\"\n",
    "\n",
    "    # API 요청을 위한 엔드포인트\n",
    "    base_url = \"https://api.genius.com\"\n",
    "    headers = {\"Authorization\": \"Bearer \" + GENIUS_API_KEY}\n",
    "\n",
    "    # 검색할 노래 제목\n",
    "    song_title = \"아이유\"\n",
    "    search_url = f\"{base_url}/search?q={song_title}\"\n",
    "\n",
    "    # API 요청 보내기\n",
    "    response = requests.get(search_url, headers=headers)\n",
    "    data = response.json()\n",
    "    # print(pd.DataFrame(data))\n",
    "    # 응답 데이터 파싱 및 활용\n",
    "    if \"response\" in data and \"hits\" in data[\"response\"]:\n",
    "        hits = data[\"response\"][\"hits\"]\n",
    "        if hits:\n",
    "            first_hit = hits[0]\n",
    "            song_info = first_hit[\"result\"]\n",
    "            print(\"노래 제목:\", song_info[\"title\"])\n",
    "            print(\"아티스트:\", song_info[\"primary_artist\"][\"name\"])\n",
    "            print(\"URL:\", song_info[\"url\"])\n",
    "    else:\n",
    "        print(\"검색 결과를 찾을 수 없습니다.\")\n",
    "\n",
    "\n",
    "    for i in data['response']['hits']:\n",
    "        # print(i['id'])\n",
    "        print(\"ID :\", i['result']['id'])\n",
    "        print(\"Title :\", i['result']['title'])\n",
    "        print(\"pyongs_count :\", i['result']['pyongs_count'])"
   ]
  }
 ],
 "metadata": {
  "language_info": {
   "name": "python"
  },
  "orig_nbformat": 4
 },
 "nbformat": 4,
 "nbformat_minor": 2
}
