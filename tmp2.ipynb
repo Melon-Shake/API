{
 "cells": [
  {
   "cell_type": "markdown",
   "metadata": {},
   "source": [
    "# 지니어스 서치\n"
   ]
  },
  {
   "cell_type": "code",
   "execution_count": 2,
   "metadata": {},
   "outputs": [],
   "source": [
    "import requests\n",
    "import pandas as pd\n",
    "\n",
    "def genius_search(search):\n",
    "    # Genius API Key\n",
    "    GENIUS_API_KEY = \"RxHhmeacGh6U3gHYSlYMqspFLIx1MqNIDe9-abYiT7Skq22Lc1j6Zuwm2mZvqBPr\"\n",
    "\n",
    "    # API 요청을 위한 엔드포인트\n",
    "    base_url = \"https://api.genius.com\"\n",
    "    headers = {\"Authorization\": \"Bearer \" + GENIUS_API_KEY}\n",
    "\n",
    "    # 검색할 노래 제목\n",
    "    search = search\n",
    "    search_url = f\"{base_url}/search?q={search}\"\n",
    "\n",
    "    # API 요청 보내기\n",
    "    response = requests.get(search_url, headers=headers)\n",
    "    data = response.json()\n",
    "    # print(pd.DataFrame(data))\n",
    "    # 응답 데이터 파싱 및 활용\n",
    "    if \"response\" in data and \"hits\" in data[\"response\"]:\n",
    "        hits = data[\"response\"][\"hits\"]\n",
    "        if hits:\n",
    "            col = [\"ID\",\"Title\",\"artist_names\",\"pyongs_count\"]\n",
    "            a=[]\n",
    "            for i in data['response']['hits']:\n",
    "                a.append([i['result']['id'],i['result']['title'],i['result']['artist_names'],i['result']['pyongs_count']])\n",
    "            return pd.DataFrame(a,columns=col)\n",
    "    else:\n",
    "        print(\"검색 결과를 찾을 수 없습니다.\")\n",
    "\n",
    "\n"
   ]
  },
  {
   "cell_type": "code",
   "execution_count": 3,
   "metadata": {},
   "outputs": [
    {
     "data": {
      "text/html": [
       "<div>\n",
       "<style scoped>\n",
       "    .dataframe tbody tr th:only-of-type {\n",
       "        vertical-align: middle;\n",
       "    }\n",
       "\n",
       "    .dataframe tbody tr th {\n",
       "        vertical-align: top;\n",
       "    }\n",
       "\n",
       "    .dataframe thead th {\n",
       "        text-align: right;\n",
       "    }\n",
       "</style>\n",
       "<table border=\"1\" class=\"dataframe\">\n",
       "  <thead>\n",
       "    <tr style=\"text-align: right;\">\n",
       "      <th></th>\n",
       "      <th>ID</th>\n",
       "      <th>Title</th>\n",
       "      <th>artist_names</th>\n",
       "      <th>pyongs_count</th>\n",
       "    </tr>\n",
       "  </thead>\n",
       "  <tbody>\n",
       "    <tr>\n",
       "      <th>0</th>\n",
       "      <td>3115930</td>\n",
       "      <td>ACT III. 무제(無題) (UNTITLED, 2014)</td>\n",
       "      <td>G-Dragon (지드래곤)</td>\n",
       "      <td>14.0</td>\n",
       "    </tr>\n",
       "    <tr>\n",
       "      <th>1</th>\n",
       "      <td>3107892</td>\n",
       "      <td>ACT I. 개소리 (BULLSHIT)</td>\n",
       "      <td>G-Dragon (지드래곤)</td>\n",
       "      <td>1.0</td>\n",
       "    </tr>\n",
       "    <tr>\n",
       "      <th>2</th>\n",
       "      <td>3115931</td>\n",
       "      <td>OUTRO. 신곡 (DIVINA COMMEDIA)</td>\n",
       "      <td>G-Dragon (지드래곤)</td>\n",
       "      <td>2.0</td>\n",
       "    </tr>\n",
       "    <tr>\n",
       "      <th>3</th>\n",
       "      <td>3115928</td>\n",
       "      <td>INTRO. 권지용 (Middle Fingers-Up)</td>\n",
       "      <td>G-Dragon (지드래곤)</td>\n",
       "      <td>3.0</td>\n",
       "    </tr>\n",
       "    <tr>\n",
       "      <th>4</th>\n",
       "      <td>3115929</td>\n",
       "      <td>ACT II. SUPER STAR</td>\n",
       "      <td>G-Dragon (지드래곤)</td>\n",
       "      <td>4.0</td>\n",
       "    </tr>\n",
       "    <tr>\n",
       "      <th>5</th>\n",
       "      <td>269991</td>\n",
       "      <td>삐딱하게 [CROOKED]</td>\n",
       "      <td>G-Dragon (지드래곤)</td>\n",
       "      <td>10.0</td>\n",
       "    </tr>\n",
       "    <tr>\n",
       "      <th>6</th>\n",
       "      <td>269984</td>\n",
       "      <td>니가 뭔데 (WHO YOU?)</td>\n",
       "      <td>G-Dragon (지드래곤)</td>\n",
       "      <td>11.0</td>\n",
       "    </tr>\n",
       "    <tr>\n",
       "      <th>7</th>\n",
       "      <td>269975</td>\n",
       "      <td>결국 (Without You)</td>\n",
       "      <td>G-Dragon (지드래곤) (Ft. ROSÉ)</td>\n",
       "      <td>3.0</td>\n",
       "    </tr>\n",
       "    <tr>\n",
       "      <th>8</th>\n",
       "      <td>270010</td>\n",
       "      <td>BLACK (remix)</td>\n",
       "      <td>G-Dragon (지드래곤) (Ft. Sky Ferreira)</td>\n",
       "      <td>NaN</td>\n",
       "    </tr>\n",
       "    <tr>\n",
       "      <th>9</th>\n",
       "      <td>319762</td>\n",
       "      <td>늴리리야 (NILIRIA)</td>\n",
       "      <td>G-Dragon (지드래곤) (Ft. Missy Elliott)</td>\n",
       "      <td>5.0</td>\n",
       "    </tr>\n",
       "  </tbody>\n",
       "</table>\n",
       "</div>"
      ],
      "text/plain": [
       "        ID                             Title   \n",
       "0  3115930  ACT III. 무제(無題) (UNTITLED, 2014)  \\\n",
       "1  3107892             ACT I. 개소리 (BULLSHIT)   \n",
       "2  3115931       OUTRO. 신곡 (DIVINA COMMEDIA)   \n",
       "3  3115928    INTRO. 권지용 (Middle Fingers-Up)   \n",
       "4  3115929                ACT II. SUPER STAR   \n",
       "5   269991                    삐딱하게 [CROOKED]   \n",
       "6   269984                  니가 뭔데 (WHO YOU?)   \n",
       "7   269975                  결국 (Without You)   \n",
       "8   270010                     BLACK (remix)   \n",
       "9   319762                    늴리리야 (NILIRIA)   \n",
       "\n",
       "                          artist_names  pyongs_count  \n",
       "0                      G-Dragon (지드래곤)          14.0  \n",
       "1                      G-Dragon (지드래곤)           1.0  \n",
       "2                      G-Dragon (지드래곤)           2.0  \n",
       "3                      G-Dragon (지드래곤)           3.0  \n",
       "4                      G-Dragon (지드래곤)           4.0  \n",
       "5                      G-Dragon (지드래곤)          10.0  \n",
       "6                      G-Dragon (지드래곤)          11.0  \n",
       "7           G-Dragon (지드래곤) (Ft. ROSÉ)           3.0  \n",
       "8   G-Dragon (지드래곤) (Ft. Sky Ferreira)           NaN  \n",
       "9  G-Dragon (지드래곤) (Ft. Missy Elliott)           5.0  "
      ]
     },
     "execution_count": 3,
     "metadata": {},
     "output_type": "execute_result"
    }
   ],
   "source": [
    "genius_search(\"지드래곤\")"
   ]
  },
  {
   "cell_type": "code",
   "execution_count": 6,
   "metadata": {},
   "outputs": [],
   "source": [
    "import requests\n",
    "import pandas as pd\n",
    "# Genius API Key\n",
    "GENIUS_API_KEY = \"RxHhmeacGh6U3gHYSlYMqspFLIx1MqNIDe9-abYiT7Skq22Lc1j6Zuwm2mZvqBPr\"\n",
    "\n",
    "# 노래 제목\n",
    "song_title = \"Shape of You\"\n",
    "\n",
    "# 검색 요청 보내기\n",
    "search_url = f\"https://api.genius.com/songs/3115930\"\n",
    "headers = {\"Authorization\": f\"Bearer {GENIUS_API_KEY}\"}\n",
    "response = requests.get(search_url, headers=headers)\n",
    "data = response.json()"
   ]
  },
  {
   "cell_type": "code",
   "execution_count": 8,
   "metadata": {},
   "outputs": [
    {
     "data": {
      "text/plain": [
       "'https://genius.com/G-dragon-act-iii-untitled-2014-lyrics'"
      ]
     },
     "execution_count": 8,
     "metadata": {},
     "output_type": "execute_result"
    }
   ],
   "source": [
    "data['response']['song']['url']"
   ]
  },
  {
   "cell_type": "markdown",
   "metadata": {},
   "source": [
    "## 가사 크롤링"
   ]
  },
  {
   "cell_type": "code",
   "execution_count": 9,
   "metadata": {},
   "outputs": [
    {
     "name": "stdout",
     "output_type": "stream",
     "text": [
      "가사:\n",
      " [Verse 1]\n",
      "나에게 돌아오기가\n",
      "어렵고 힘든 걸 알아\n",
      "이제 더는 상처받기가\n",
      "두렵고 싫은 걸 알아\n",
      "네가 떠나 버린 그날에도\n",
      "모진 말로 널 울리고\n",
      "뒤돌아 서서 후회해 미안해\n",
      "[Chorus]\n",
      "제발 단 한 번이라도\n",
      "너를 볼 수 있다면\n",
      "내 모든 걸 다 잃어도 괜찮아\n",
      "꿈에서라도 너를 만나\n",
      "다시 사랑하기를\n",
      "우리 이대로\n",
      "[Verse 2]\n",
      "너에게 용서받기 보다\n",
      "죽는 게 더 쉬울지 몰라\n",
      "이 노래를 불러보지만\n",
      "내 진심이 닿을지 몰라\n",
      "네가 행복하기를 바래\n",
      "그 흔한 거짓말도 못하고\n",
      "돌아오기만 기도해 미안해\n"
     ]
    }
   ],
   "source": [
    "import requests\n",
    "from bs4 import BeautifulSoup\n",
    "\n",
    "url = 'https://genius.com/G-dragon-act-iii-untitled-2014-lyrics'\n",
    "\n",
    "response = requests.get(url)\n",
    "\n",
    "if response.status_code == 200:\n",
    "    page_content = response.content\n",
    "    soup = BeautifulSoup(page_content, \"html.parser\")\n",
    "\n",
    "    lyrics_container = soup.find(\"div\", class_=\"Lyrics__Container-sc-1ynbvzw-5\")\n",
    "\n",
    "    if lyrics_container:\n",
    "        lyrics = \"\\n\".join([line.strip() for line in lyrics_container.stripped_strings])\n",
    "        print(\"가사:\\n\", lyrics)\n",
    "    else:\n",
    "        print(\"가사 컨테이너를 찾을 수 없습니다.\")\n",
    "else:\n",
    "    print(\"페이지를 가져올 수 없습니다.\")\n"
   ]
  }
 ],
 "metadata": {
  "kernelspec": {
   "display_name": "Python 3",
   "language": "python",
   "name": "python3"
  },
  "language_info": {
   "codemirror_mode": {
    "name": "ipython",
    "version": 3
   },
   "file_extension": ".py",
   "mimetype": "text/x-python",
   "name": "python",
   "nbconvert_exporter": "python",
   "pygments_lexer": "ipython3",
   "version": "3.8.7rc1"
  },
  "orig_nbformat": 4
 },
 "nbformat": 4,
 "nbformat_minor": 2
}
